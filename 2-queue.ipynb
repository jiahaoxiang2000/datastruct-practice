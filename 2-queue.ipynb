{
 "cells": [
  {
   "cell_type": "code",
   "execution_count": null,
   "metadata": {},
   "outputs": [],
   "source": [
    "a = [0, 0, 0, 0, 0, 0]  # f = 0, r =0\n",
    "a = [0, 1, 0, 0, 0, 0]  # f = 1, r =0\n",
    "a = [0, 1, 1, 0, 0, 0]  # f = 2, r =0\n",
    "a = [0, 0, 1, 1, 0, 0]  # f = 1, r =4\n",
    "# (front - rear) / size\n",
    "a = [1, 0, 0, 0, 0, 1]  # f = 0, r =4\n",
    "# (front - rear + len) % len / size\n",
    "a = [1, 0, 1, 1, 1, 1]  # f = 0 , r = 1\n",
    "# rear == (front + 1) % len"
   ]
  },
  {
   "cell_type": "code",
   "execution_count": null,
   "metadata": {},
   "outputs": [],
   "source": [
    "a = [0, 0, 1, 1, 0, 0]  # f = 1, r =4\n",
    "a = [0, 0, 1, 1, 1, 0]  # f = 1, r =5\n",
    "a = [0, 0, 1, 1, 1, 1]  # f = 1, r =0\n",
    "a = [1, 0, 1, 1, 1, 1]  # f = 1, r =1\n",
    "a = [1, 1, 1, 1, 1, 1]  # f = 1, r =2"
   ]
  },
  {
   "cell_type": "code",
   "execution_count": 8,
   "metadata": {},
   "outputs": [
    {
     "name": "stdout",
     "output_type": "stream",
     "text": [
      "True\n",
      "<re.Match object; span=(0, 3), match='aab'>\n"
     ]
    }
   ],
   "source": [
    "a = \"([()])\"  # True\n",
    "a = \"([)]\"  # False\n",
    "\n",
    "# re pattern\n",
    "a = \"aabb\"  # False\n",
    "b = \"aabb\"  # True\n",
    "\n",
    "print(a == b)\n",
    "# use the regular expression to match the pattern, b pattern from a\n",
    "import re\n",
    "\n",
    "pattern = re.compile(r\"([a-z]){3}\")\n",
    "print(pattern.match(a))"
   ]
  },
  {
   "cell_type": "markdown",
   "metadata": {},
   "source": [
    "节点个数 = 孩子个数（度数之和）+ 1\n",
    "\n",
    "2+3+2+x = 2*1+3*2+2\\*3+1\n",
    "\n",
    "先序： 根左右；\n",
    "中序： 左根右；\n",
    "后序： 左右根；\n"
   ]
  },
  {
   "cell_type": "code",
   "execution_count": 2,
   "metadata": {},
   "outputs": [
    {
     "data": {
      "text/plain": [
       "1.0"
      ]
     },
     "execution_count": 2,
     "metadata": {},
     "output_type": "execute_result"
    }
   ],
   "source": [
    "# 0*8+1*4+2*2+3*1+4*x +1 = 8+4+2+1+x\n",
    "x = (8 + 4 + 2 + 1 - 4 - 4 - 3 - 1) / 3\n",
    "x"
   ]
  },
  {
   "cell_type": "markdown",
   "metadata": {},
   "source": [
    "$1*N_1+\\dots+m*N_m+1 = N_1+\\dots+N_m+x$\n",
    "\n",
    "$x=1*N_2+\\dots+(m-1)*N_m+1$\n",
    "\n",
    "$2^{h-1} -1, \\text{height is } h$\n",
    "\n",
    "$2^{h-1}-1+1=2^{h-1},2^{h}-1$\n"
   ]
  },
  {
   "cell_type": "markdown",
   "metadata": {},
   "source": [
    "$n,l=(2*n),r=(2*n+1)$\n"
   ]
  },
  {
   "cell_type": "code",
   "execution_count": null,
   "metadata": {},
   "outputs": [],
   "source": [
    "queue = [1]\n",
    "queue = [2, 3, 4, 5]\n",
    "queue = [3, 4, 5, 7]\n",
    "queue = [4, 5, 7]\n",
    "queue = [5, 7, 6]"
   ]
  }
 ],
 "metadata": {
  "kernelspec": {
   "display_name": "nootbook",
   "language": "python",
   "name": "python3"
  },
  "language_info": {
   "codemirror_mode": {
    "name": "ipython",
    "version": 3
   },
   "file_extension": ".py",
   "mimetype": "text/x-python",
   "name": "python",
   "nbconvert_exporter": "python",
   "pygments_lexer": "ipython3",
   "version": "3.12.8"
  }
 },
 "nbformat": 4,
 "nbformat_minor": 2
}
