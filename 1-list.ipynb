{
 "cells": [
  {
   "cell_type": "markdown",
   "metadata": {},
   "source": [
    "# Arrays in Python\n",
    "\n",
    "## Creating Arrays\n",
    "Creating arrays using Python lists for 1D and 2D data structures."
   ]
  },
  {
   "cell_type": "code",
   "execution_count": null,
   "metadata": {},
   "outputs": [
    {
     "name": "stdout",
     "output_type": "stream",
     "text": [
      "aaaa 1 1.1\n"
     ]
    },
    {
     "data": {
      "text/plain": [
       "3"
      ]
     },
     "execution_count": 10,
     "metadata": {},
     "output_type": "execute_result"
    }
   ],
   "source": [
    "a = \"ssss\"\n",
    "a.replace(\"s\", \"a\")\n",
    "b = 1\n",
    "c = 1.1\n",
    "a = a.replace(\"s\", \"a\")\n",
    "print(a, b, c)\n",
    "type(a), type(b), type(c)\n",
    "\n",
    "j = {\"a\": 1, \"b\": 2}\n",
    "j[\"a\"]\n",
    "array = {\"0\":1, \"1\":2, \"2\":3}\n",
    "link = {\"0\":1, \"100\":2, \"101\":3}\n",
    "### \n",
    "index = [2,1,0]\n",
    "array[str(index[0])]\n"
   ]
  },
  {
   "cell_type": "markdown",
   "metadata": {},
   "source": [
    "\n",
    "$lim_{0}(n)=lim_{0}(4n)$\n",
    "\n",
    "$lim_{0}(n^2)=lim_{0}(4n^2)$"
   ]
  },
  {
   "cell_type": "markdown",
   "metadata": {},
   "source": [
    "```c\n",
    "for(i=2;i<=n;++i){ // t = n\n",
    "    ++x; // 1 \n",
    "    for(j=1;j<=i-1;++j) // t = n \n",
    "        a[i][j]=x; // 1\n",
    "}\n",
    "// n * n = n^2\n",
    "```\n",
    "---\n",
    "```c\n",
    "// time 代码运行次数\n",
    "for(i=2;i<=n;++i){ // n-2 = n, t = n\n",
    "    ++x; // 1 \n",
    "    for(j=1;j<=i-1;){ // j < n, j++, j=j*2, 2^t = n, t = log2(n)\n",
    "        a[i][j]=x;\n",
    "        j=j*2;\n",
    "    } \n",
    "}\n",
    "// n * log2(n) \n",
    "```\n",
    "```c\n",
    "for(i=2;i<=n;++i){ // t = n\n",
    "    ++x; // t = 1\n",
    "} \n",
    "    for(j=1;j<=i-1;++j) // t = n \n",
    "        a[i][j]=x; // t = 1\n",
    "\n",
    "// n + n = 2n = O(n) \n",
    "```"
   ]
  },
  {
   "cell_type": "markdown",
   "metadata": {},
   "source": [
    "```c\n",
    "i=1; // 1\n",
    "while(i<=n) // t^2 = i = n, t = log2(n)\n",
    "    i=i*2; // 1\n",
    "\n",
    "```"
   ]
  },
  {
   "cell_type": "markdown",
   "metadata": {},
   "source": [
    "```c\n",
    "i=1; // t = 1\n",
    "for(i=1;i<=n;++i){ // t = n\n",
    "    j=i; // t = 1\n",
    "    while(j>=2) // n, n*(1/2)^t = 1, n = 2^t, t = log2(n)\n",
    "        j=j/2;\n",
    "}\n",
    "```"
   ]
  },
  {
   "cell_type": "markdown",
   "metadata": {},
   "source": [
    "$f(g)$ $f=n$ $g=n$, $f(g)=n^2x$"
   ]
  },
  {
   "cell_type": "markdown",
   "metadata": {},
   "source": [
    "```c\n",
    "for(i=0;i<=m;i++){ // t = m = n \n",
    "    for(j=0;j<n;j++){ // t = n\n",
    "    A[i][j]=0;\n",
    "    }\n",
    "}\n",
    "// n * n = n^2\n",
    "```\n",
    "```c log3(n)\n",
    "y=0;\n",
    "while((y+1)*(y+1)<=n) // t = y, y^2 + 2y + 1 <= n, y^2 <= n, t^2 = n, t = sqrt(n) = n^(1/2)\n",
    "y=y+1;\n",
    "```\n",
    "$O(\\sqrt{n})$"
   ]
  },
  {
   "cell_type": "markdown",
   "metadata": {},
   "source": [
    "insert\n",
    "\n",
    "n, (1,....,n)\n",
    "\n",
    "(1,2,...,i-1,i,.....n); n - (i -1) = n - i + 1\n",
    "\n",
    "delete\n",
    "\n",
    "n, (1,....,n)\n",
    "\n",
    "(1,2,...,i-1,i,i+1,.....n); n - (i) = n - i"
   ]
  },
  {
   "cell_type": "markdown",
   "metadata": {},
   "source": [
    "s 元素大小，i 位置， a 其实地址\n",
    "求第i个元素的地址: $a + (i-1) * s$\n",
    "\n"
   ]
  },
  {
   "cell_type": "code",
   "execution_count": null,
   "metadata": {},
   "outputs": [
    {
     "name": "stdout",
     "output_type": "stream",
     "text": [
      "[1, 3, 5, 7, 9, 2, 4, 6, 8, 10]\n",
      "[1, 2, 3, 4, 5, 6, 7, 8, 9, 10]\n"
     ]
    }
   ],
   "source": [
    "A = [1,3,5,7,9] # a is ordered\n",
    "B = [2,4,6,8,10] # b is ordered\n",
    "C = [] # c merge a and b, c also ordered\n",
    "C = A + B\n",
    "print(C)\n",
    "\n",
    "C = []\n",
    "a_index = 0\n",
    "b_index = 0\n",
    "\n",
    "# 先谁小，谁先进C\n",
    "while a_index < len(A) and b_index < len(B):\n",
    "    if A[a_index] < B[b_index]:\n",
    "        C.append(A[a_index])\n",
    "        a_index += 1\n",
    "    else:\n",
    "        C.append(B[b_index])\n",
    "        b_index += 1\n",
    "# 如果A还有剩余，全加到C\n",
    "if a_index < len(A):\n",
    "    C += A[a_index:]\n",
    "# 如果B还有剩余，全加到C\n",
    "if b_index < len(B):\n",
    "    C += B[b_index:]\n",
    "print(C)\n"
   ]
  },
  {
   "cell_type": "markdown",
   "metadata": {},
   "source": [
    "1,2,....,n\n",
    "\n",
    "$\\sum_{i=1}^ni/n=((1+n)*n/2)/n=(1+n)/2$"
   ]
  },
  {
   "cell_type": "code",
   "execution_count": null,
   "metadata": {},
   "outputs": [
    {
     "ename": "NameError",
     "evalue": "name 'NULL' is not defined",
     "output_type": "error",
     "traceback": [
      "\u001b[0;31m---------------------------------------------------------------------------\u001b[0m",
      "\u001b[0;31mNameError\u001b[0m                                 Traceback (most recent call last)",
      "Cell \u001b[0;32mIn[7], line 1\u001b[0m\n\u001b[0;32m----> 1\u001b[0m double_node \u001b[38;5;241m=\u001b[39m {\u001b[38;5;124m\"\u001b[39m\u001b[38;5;124mvalue\u001b[39m\u001b[38;5;124m\"\u001b[39m: \u001b[38;5;241m1\u001b[39m, \u001b[38;5;124m\"\u001b[39m\u001b[38;5;124mnext\u001b[39m\u001b[38;5;124m\"\u001b[39m: NULL, \u001b[38;5;124m\"\u001b[39m\u001b[38;5;124mprev\u001b[39m\u001b[38;5;124m\"\u001b[39m: NULL}\n\u001b[1;32m      2\u001b[0m node \u001b[38;5;241m=\u001b[39m {\u001b[38;5;124m\"\u001b[39m\u001b[38;5;124mvalue\u001b[39m\u001b[38;5;124m\"\u001b[39m: \u001b[38;5;241m1\u001b[39m, \u001b[38;5;124m\"\u001b[39m\u001b[38;5;124mnext\u001b[39m\u001b[38;5;124m\"\u001b[39m: NULL}\n",
      "\u001b[0;31mNameError\u001b[0m: name 'NULL' is not defined"
     ]
    }
   ],
   "source": [
    "double_node = {\"value\": 1, \"next\": None, \"prev\": None}\n",
    "node = {\"value\": 1, \"next\": None}\n"
   ]
  },
  {
   "cell_type": "code",
   "execution_count": 2,
   "metadata": {},
   "outputs": [
    {
     "name": "stdout",
     "output_type": "stream",
     "text": [
      "1D Array: [1, 2, 3, 4, 5]\n",
      "2D Array: [[1, 2, 3], [4, 5, 6], [7, 8, 9]]\n"
     ]
    }
   ],
   "source": [
    "# Creating arrays using Python lists\n",
    "array_1d = [1, 2, 3, 4, 5]  # 1D array\n",
    "array_2d = [[1, 2, 3], [4, 5, 6], [7, 8, 9]]  # 2D array\n",
    "\n",
    "print(\"1D Array:\", array_1d)\n",
    "print(\"2D Array:\", array_2d)"
   ]
  },
  {
   "cell_type": "markdown",
   "metadata": {},
   "source": [
    "## Accessing Array Elements\n",
    "Access elements in arrays using indices."
   ]
  },
  {
   "cell_type": "code",
   "execution_count": 1,
   "metadata": {},
   "outputs": [
    {
     "ename": "NameError",
     "evalue": "name 'array_1d' is not defined",
     "output_type": "error",
     "traceback": [
      "\u001b[0;31m---------------------------------------------------------------------------\u001b[0m",
      "\u001b[0;31mNameError\u001b[0m                                 Traceback (most recent call last)",
      "Cell \u001b[0;32mIn[1], line 2\u001b[0m\n\u001b[1;32m      1\u001b[0m \u001b[38;5;66;03m# Accessing elements by index\u001b[39;00m\n\u001b[0;32m----> 2\u001b[0m first_element \u001b[38;5;241m=\u001b[39m array_1d[\u001b[38;5;241m0\u001b[39m]  \u001b[38;5;66;03m# Accessing the first element of the 1D array\u001b[39;00m\n\u001b[1;32m      3\u001b[0m second_row_first_element \u001b[38;5;241m=\u001b[39m array_2d[\u001b[38;5;241m1\u001b[39m][\u001b[38;5;241m0\u001b[39m]  \u001b[38;5;66;03m# Accessing the first element of the second row in the 2D array\u001b[39;00m\n\u001b[1;32m      5\u001b[0m \u001b[38;5;28mprint\u001b[39m(\u001b[38;5;124m\"\u001b[39m\u001b[38;5;124mFirst element of 1D array:\u001b[39m\u001b[38;5;124m\"\u001b[39m, first_element)\n",
      "\u001b[0;31mNameError\u001b[0m: name 'array_1d' is not defined"
     ]
    }
   ],
   "source": [
    "# Accessing elements by index\n",
    "first_element = array_1d[0]  # Accessing the first element of the 1D array\n",
    "second_row_first_element = array_2d[1][0]  # Accessing the first element of the second row in the 2D array\n",
    "\n",
    "print(\"First element of 1D array:\", first_element)\n",
    "# Append elements to the array\n",
    "array_1d.append(6)  # Append 6 to the end of the 1D array\n",
    "array_2d[0].append(4)  # Append 4 to the first row of the 2D array\n",
    "\n",
    "# Insert elements into the array\n",
    "array_1d.insert(2, 10)  # Insert 10 at index 2 in the 1D array\n",
    "array_2d[1].insert(1, 11)  # Insert 11 at index 1 in the second row of the 2D array\n",
    "\n",
    "# Remove elements from the array\n",
    "array_1d.remove(3)  # Remove the first occurrence of 3 from the 1D array\n",
    "array_2d[2].remove(8)  # Remove the first occurrence of 8 from the third row of the 2D array\n",
    "\n",
    "# Sort the array\n",
    "array_1d.sort()  # Sort the 1D array in ascending order\n",
    "for row in array_2d:\n",
    "    row.sort()  # Sort each row of the 2D array in ascending order\n",
    "\n",
    "# Reverse the array\n",
    "array_1d.reverse()  # Reverse the 1D array\n",
    "for row in array_2d:\n",
    "    row.reverse()  # Reverse each row of the 2D array\n",
    "\n",
    "# Print the modified arrays\n",
    "print(\"Modified 1D array:\", array_1d)\n",
    "print(\"Modified 2D array:\", array_2d)"
   ]
  },
  {
   "cell_type": "markdown",
   "metadata": {},
   "source": [
    "# Creating and Traversing Linked Lists\n",
    "Implement a basic linked list class, create nodes, and traverse the linked list to access elements."
   ]
  },
  {
   "cell_type": "code",
   "execution_count": 3,
   "metadata": {},
   "outputs": [
    {
     "name": "stdout",
     "output_type": "stream",
     "text": [
      "1 -> 2 -> 3 -> 4 -> 5 -> None\n"
     ]
    }
   ],
   "source": [
    "# Creating and Traversing Linked Lists\n",
    "\n",
    "# Define a Node class\n",
    "class Node:\n",
    "    def __init__(self, data):\n",
    "        self.data = data  # Initialize the node's data\n",
    "        self.next = None  # Initialize the next pointer to None\n",
    "\n",
    "# Define a LinkedList class\n",
    "class LinkedList:\n",
    "    def __init__(self):\n",
    "        self.head = None  # Initialize the head of the linked list\n",
    "\n",
    "    # Method to append a new node to the linked list\n",
    "    def append(self, data):\n",
    "        new_node = Node(data)  # Create a new node with the given data\n",
    "        if self.head is None:\n",
    "            self.head = new_node  # If the list is empty, set the new node as the head\n",
    "            return\n",
    "        last_node = self.head\n",
    "        while last_node.next:\n",
    "            last_node = last_node.next  # Traverse to the end of the list\n",
    "        last_node.next = new_node  # Set the next of the last node to the new node\n",
    "\n",
    "    # Method to traverse the linked list and print each node's data\n",
    "    def traverse(self):\n",
    "        current_node = self.head\n",
    "        while current_node:\n",
    "            print(current_node.data, end=\" -> \")  # Print the current node's data\n",
    "            current_node = current_node.next  # Move to the next node\n",
    "        print(\"None\")  # Indicate the end of the list\n",
    "\n",
    "# Create a linked list and append some nodes\n",
    "linked_list = LinkedList()\n",
    "linked_list.append(1)\n",
    "linked_list.append(2)\n",
    "linked_list.append(3)\n",
    "linked_list.append(4)\n",
    "linked_list.append(5)\n",
    "\n",
    "# Traverse the linked list to print its elements\n",
    "linked_list.traverse()"
   ]
  },
  {
   "cell_type": "markdown",
   "metadata": {},
   "source": [
    "# Linked List Insertions and Deletions\n",
    "Practice inserting and deleting nodes at the beginning, end, and middle of a linked list."
   ]
  },
  {
   "cell_type": "code",
   "execution_count": 4,
   "metadata": {},
   "outputs": [
    {
     "name": "stdout",
     "output_type": "stream",
     "text": [
      "0 -> 1 -> 2 -> 3 -> 4 -> 5 -> None\n",
      "0 -> 1 -> 2 -> 10 -> 3 -> 4 -> 5 -> None\n",
      "1 -> 2 -> 10 -> 3 -> 4 -> 5 -> None\n",
      "1 -> 2 -> 10 -> 3 -> 4 -> None\n",
      "1 -> 2 -> 3 -> 4 -> None\n"
     ]
    }
   ],
   "source": [
    "# Linked List Insertions and Deletions\n",
    "\n",
    "# Method to insert a new node at the beginning of the linked list\n",
    "def insert_at_beginning(self, data):\n",
    "    new_node = Node(data)  # Create a new node with the given data\n",
    "    new_node.next = self.head  # Set the next of the new node to the current head\n",
    "    self.head = new_node  # Set the new node as the head of the list\n",
    "\n",
    "# Method to insert a new node at a specific position in the linked list\n",
    "def insert_at_position(self, position, data):\n",
    "    if position == 0:\n",
    "        self.insert_at_beginning(data)  # If position is 0, insert at the beginning\n",
    "        return\n",
    "    new_node = Node(data)  # Create a new node with the given data\n",
    "    current_node = self.head\n",
    "    for _ in range(position - 1):\n",
    "        if current_node is None:\n",
    "            raise IndexError(\"Position out of bounds\")  # Raise an error if position is out of bounds\n",
    "        current_node = current_node.next\n",
    "    new_node.next = current_node.next  # Set the next of the new node to the next of the current node\n",
    "    current_node.next = new_node  # Set the next of the current node to the new node\n",
    "\n",
    "# Method to delete a node from the beginning of the linked list\n",
    "def delete_from_beginning(self):\n",
    "    if self.head is None:\n",
    "        return  # If the list is empty, do nothing\n",
    "    self.head = self.head.next  # Set the head to the next node\n",
    "\n",
    "# Method to delete a node from the end of the linked list\n",
    "def delete_from_end(self):\n",
    "    if self.head is None:\n",
    "        return  # If the list is empty, do nothing\n",
    "    if self.head.next is None:\n",
    "        self.head = None  # If there is only one node, set the head to None\n",
    "        return\n",
    "    second_last_node = self.head\n",
    "    while second_last_node.next.next:\n",
    "        second_last_node = second_last_node.next  # Traverse to the second last node\n",
    "    second_last_node.next = None  # Set the next of the second last node to None\n",
    "\n",
    "# Method to delete a node from a specific position in the linked list\n",
    "def delete_from_position(self, position):\n",
    "    if self.head is None:\n",
    "        return  # If the list is empty, do nothing\n",
    "    if position == 0:\n",
    "        self.head = self.head.next  # If position is 0, set the head to the next node\n",
    "        return\n",
    "    current_node = self.head\n",
    "    for _ in range(position - 1):\n",
    "        if current_node.next is None:\n",
    "            raise IndexError(\"Position out of bounds\")  # Raise an error if position is out of bounds\n",
    "        current_node = current_node.next\n",
    "    if current_node.next is None:\n",
    "        raise IndexError(\"Position out of bounds\")  # Raise an error if position is out of bounds\n",
    "    current_node.next = current_node.next.next  # Set the next of the current node to the next of the next node\n",
    "\n",
    "# Add the new methods to the LinkedList class\n",
    "LinkedList.insert_at_beginning = insert_at_beginning\n",
    "LinkedList.insert_at_position = insert_at_position\n",
    "LinkedList.delete_from_beginning = delete_from_beginning\n",
    "LinkedList.delete_from_end = delete_from_end\n",
    "LinkedList.delete_from_position = delete_from_position\n",
    "\n",
    "# Create a linked list and perform insertions and deletions\n",
    "linked_list = LinkedList()\n",
    "linked_list.append(1)\n",
    "linked_list.append(2)\n",
    "linked_list.append(3)\n",
    "linked_list.append(4)\n",
    "linked_list.append(5)\n",
    "\n",
    "# Insert at the beginning\n",
    "linked_list.insert_at_beginning(0)\n",
    "linked_list.traverse()\n",
    "\n",
    "# Insert at position 3\n",
    "linked_list.insert_at_position(3, 10)\n",
    "linked_list.traverse()\n",
    "\n",
    "# Delete from the beginning\n",
    "linked_list.delete_from_beginning()\n",
    "linked_list.traverse()\n",
    "\n",
    "# Delete from the end\n",
    "linked_list.delete_from_end()\n",
    "linked_list.traverse()\n",
    "\n",
    "# Delete from position 2\n",
    "linked_list.delete_from_position(2)\n",
    "linked_list.traverse()"
   ]
  },
  {
   "cell_type": "markdown",
   "metadata": {},
   "source": [
    "# Converting Between Arrays and Linked Lists\n",
    "Convert arrays to linked lists and vice versa. Compare the performance of both data structures."
   ]
  },
  {
   "cell_type": "code",
   "execution_count": 5,
   "metadata": {},
   "outputs": [
    {
     "name": "stdout",
     "output_type": "stream",
     "text": [
      "Original 1D array: [1, 2, 3, 4, 5]\n",
      "Converted to linked list and back to array: [1, 2, 3, 4, 5]\n",
      "Original 2D array: [[1, 2, 3], [4, 5, 6], [7, 8, 9]]\n",
      "Converted to linked list of linked lists and back to 2D array: [[1, 2, 3], [4, 5, 6], [7, 8, 9]]\n",
      "Time to append 10000 elements to an array: 0.0003838539123535156\n",
      "Time to append 10000 elements to a linked list: 0.38898706436157227\n"
     ]
    }
   ],
   "source": [
    "# Converting Between Arrays and Linked Lists\n",
    "\n",
    "# Function to convert an array to a linked list\n",
    "def array_to_linked_list(array):\n",
    "    linked_list = LinkedList()\n",
    "    for item in array:\n",
    "        linked_list.append(item)\n",
    "    return linked_list\n",
    "\n",
    "# Function to convert a linked list to an array\n",
    "def linked_list_to_array(linked_list):\n",
    "    array = []\n",
    "    current_node = linked_list.head\n",
    "    while current_node:\n",
    "        array.append(current_node.data)\n",
    "        current_node = current_node.next\n",
    "    return array\n",
    "\n",
    "# Convert 1D array to linked list and back to array\n",
    "array_1d = [1, 2, 3, 4, 5]\n",
    "linked_list_1d = array_to_linked_list(array_1d)\n",
    "converted_array_1d = linked_list_to_array(linked_list_1d)\n",
    "\n",
    "# Print the results\n",
    "print(\"Original 1D array:\", array_1d)\n",
    "print(\"Converted to linked list and back to array:\", converted_array_1d)\n",
    "\n",
    "# Convert 2D array to linked list of linked lists and back to 2D array\n",
    "array_2d = [[1, 2, 3], [4, 5, 6], [7, 8, 9]]\n",
    "linked_list_2d = LinkedList()\n",
    "for row in array_2d:\n",
    "    linked_list_2d.append(array_to_linked_list(row))\n",
    "converted_array_2d = []\n",
    "current_row = linked_list_2d.head\n",
    "while current_row:\n",
    "    converted_array_2d.append(linked_list_to_array(current_row.data))\n",
    "    current_row = current_row.next\n",
    "\n",
    "# Print the results\n",
    "print(\"Original 2D array:\", array_2d)\n",
    "print(\"Converted to linked list of linked lists and back to 2D array:\", converted_array_2d)\n",
    "\n",
    "# Performance comparison\n",
    "import time\n",
    "\n",
    "# Measure time to append elements to an array\n",
    "start_time = time.time()\n",
    "array = []\n",
    "for i in range(10000):\n",
    "    array.append(i)\n",
    "array_time = time.time() - start_time\n",
    "\n",
    "# Measure time to append elements to a linked list\n",
    "start_time = time.time()\n",
    "linked_list = LinkedList()\n",
    "for i in range(10000):\n",
    "    linked_list.append(i)\n",
    "linked_list_time = time.time() - start_time\n",
    "\n",
    "# Print the performance results\n",
    "print(\"Time to append 10000 elements to an array:\", array_time)\n",
    "print(\"Time to append 10000 elements to a linked list:\", linked_list_time)\n"
   ]
  }
 ],
 "metadata": {
  "kernelspec": {
   "display_name": "nootbook",
   "language": "python",
   "name": "python3"
  },
  "language_info": {
   "codemirror_mode": {
    "name": "ipython",
    "version": 3
   },
   "file_extension": ".py",
   "mimetype": "text/x-python",
   "name": "python",
   "nbconvert_exporter": "python",
   "pygments_lexer": "ipython3",
   "version": "3.12.8"
  }
 },
 "nbformat": 4,
 "nbformat_minor": 2
}
